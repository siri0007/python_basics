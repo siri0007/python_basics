{
 "cells": [
  {
   "cell_type": "code",
   "execution_count": 1,
   "id": "c85938a2",
   "metadata": {},
   "outputs": [
    {
     "data": {
      "text/plain": [
       "100"
      ]
     },
     "execution_count": 1,
     "metadata": {},
     "output_type": "execute_result"
    }
   ],
   "source": [
    "96+4"
   ]
  },
  {
   "cell_type": "code",
   "execution_count": 2,
   "id": "4db87d80",
   "metadata": {},
   "outputs": [
    {
     "data": {
      "text/plain": [
       "-2"
      ]
     },
     "execution_count": 2,
     "metadata": {},
     "output_type": "execute_result"
    }
   ],
   "source": [
    "9-11"
   ]
  },
  {
   "cell_type": "code",
   "execution_count": 3,
   "id": "27cb8470",
   "metadata": {},
   "outputs": [
    {
     "data": {
      "text/plain": [
       "42.5"
      ]
     },
     "execution_count": 3,
     "metadata": {},
     "output_type": "execute_result"
    }
   ],
   "source": [
    "85*0.5\n"
   ]
  },
  {
   "cell_type": "code",
   "execution_count": 4,
   "id": "d81d086b",
   "metadata": {},
   "outputs": [
    {
     "data": {
      "text/plain": [
       "11.0"
      ]
     },
     "execution_count": 4,
     "metadata": {},
     "output_type": "execute_result"
    }
   ],
   "source": [
    "55/5"
   ]
  },
  {
   "cell_type": "code",
   "execution_count": 10,
   "id": "6620c23e",
   "metadata": {},
   "outputs": [],
   "source": [
    "a=12\n",
    "b=8\n",
    "c=a+b"
   ]
  },
  {
   "cell_type": "code",
   "execution_count": 12,
   "id": "bcc7f9ab",
   "metadata": {},
   "outputs": [
    {
     "name": "stdout",
     "output_type": "stream",
     "text": [
      "20\n"
     ]
    }
   ],
   "source": [
    "print (c)"
   ]
  },
  {
   "cell_type": "code",
   "execution_count": 2,
   "id": "ff171cff",
   "metadata": {},
   "outputs": [
    {
     "name": "stdout",
     "output_type": "stream",
     "text": [
      "Siri the great\n"
     ]
    }
   ],
   "source": [
    "print(\"Siri the great\")"
   ]
  },
  {
   "cell_type": "code",
   "execution_count": 1,
   "id": "c9e38eca",
   "metadata": {},
   "outputs": [
    {
     "name": "stdout",
     "output_type": "stream",
     "text": [
      "Enter the 1st number55\n",
      "Enter the 2nd number22\n"
     ]
    }
   ],
   "source": [
    "number_1=int(input(\"Enter the 1st number\"))#to get the input\n",
    "number_2=int(input(\"Enter the 2nd number\"))#to get the input"
   ]
  },
  {
   "cell_type": "code",
   "execution_count": 3,
   "id": "18fd59c4",
   "metadata": {},
   "outputs": [
    {
     "name": "stdout",
     "output_type": "stream",
     "text": [
      "77\n"
     ]
    }
   ],
   "source": [
    "sum=number_1+number_2\n",
    "print(sum)"
   ]
  },
  {
   "cell_type": "code",
   "execution_count": 22,
   "id": "27c9e050",
   "metadata": {},
   "outputs": [
    {
     "name": "stdout",
     "output_type": "stream",
     "text": [
      "Enter the 1st number 2\n",
      "Enter the 2nd number 2\n"
     ]
    }
   ],
   "source": [
    "number_3=int(input(\"Enter the 1st number\"))\n",
    "number_4=int(input(\"Enter the 2nd number\"))"
   ]
  },
  {
   "cell_type": "code",
   "execution_count": 31,
   "id": "92e7e837",
   "metadata": {},
   "outputs": [
    {
     "data": {
      "text/plain": [
       "4"
      ]
     },
     "execution_count": 31,
     "metadata": {},
     "output_type": "execute_result"
    }
   ],
   "source": [
    "mul=number_3*number_4\n",
    "mul\n"
   ]
  },
  {
   "cell_type": "code",
   "execution_count": 32,
   "id": "868dbe0a",
   "metadata": {},
   "outputs": [
    {
     "data": {
      "text/plain": [
       "1.0"
      ]
     },
     "execution_count": 32,
     "metadata": {},
     "output_type": "execute_result"
    }
   ],
   "source": [
    "div=number_3/number_4\n",
    "div"
   ]
  },
  {
   "cell_type": "code",
   "execution_count": 34,
   "id": "288511fa",
   "metadata": {},
   "outputs": [
    {
     "name": "stdout",
     "output_type": "stream",
     "text": [
      "5.0\n"
     ]
    }
   ],
   "source": [
    "#to change the data type \n",
    "num=5\n",
    "print(float(num))"
   ]
  },
  {
   "cell_type": "code",
   "execution_count": 35,
   "id": "3ea6a4eb",
   "metadata": {},
   "outputs": [
    {
     "data": {
      "text/plain": [
       "int"
      ]
     },
     "execution_count": 35,
     "metadata": {},
     "output_type": "execute_result"
    }
   ],
   "source": [
    "#to find what type int 0r float or string\n",
    "type(num)"
   ]
  },
  {
   "cell_type": "code",
   "execution_count": 36,
   "id": "9552700d",
   "metadata": {},
   "outputs": [
    {
     "name": "stdout",
     "output_type": "stream",
     "text": [
      "2.3\n"
     ]
    },
    {
     "data": {
      "text/plain": [
       "float"
      ]
     },
     "execution_count": 36,
     "metadata": {},
     "output_type": "execute_result"
    }
   ],
   "source": [
    "#floating point\n",
    "b=2.3\n",
    "print(b)\n",
    "type(b)"
   ]
  },
  {
   "cell_type": "code",
   "execution_count": 38,
   "id": "3ccec9ae",
   "metadata": {},
   "outputs": [
    {
     "name": "stdout",
     "output_type": "stream",
     "text": [
      "False\n"
     ]
    },
    {
     "data": {
      "text/plain": [
       "bool"
      ]
     },
     "execution_count": 38,
     "metadata": {},
     "output_type": "execute_result"
    }
   ],
   "source": [
    "#boolean operator\n",
    "a = 7 < 3 \n",
    "print(a) \n",
    "type(a)"
   ]
  },
  {
   "cell_type": "code",
   "execution_count": 39,
   "id": "417bc357",
   "metadata": {},
   "outputs": [
    {
     "name": "stdout",
     "output_type": "stream",
     "text": [
      "True\n"
     ]
    },
    {
     "data": {
      "text/plain": [
       "bool"
      ]
     },
     "execution_count": 39,
     "metadata": {},
     "output_type": "execute_result"
    }
   ],
   "source": [
    "a = 7 > 3\n",
    "print(a)\n",
    "type(a)"
   ]
  },
  {
   "cell_type": "code",
   "execution_count": 40,
   "id": "7b7091d7",
   "metadata": {},
   "outputs": [
    {
     "name": "stdout",
     "output_type": "stream",
     "text": [
      "Machine Learning\n"
     ]
    },
    {
     "data": {
      "text/plain": [
       "str"
      ]
     },
     "execution_count": 40,
     "metadata": {},
     "output_type": "execute_result"
    }
   ],
   "source": [
    "my_string = \"Machine Learning\"\n",
    "print(my_string)\n",
    "type(my_string)"
   ]
  },
  {
   "cell_type": "code",
   "execution_count": 43,
   "id": "20204303",
   "metadata": {},
   "outputs": [
    {
     "name": "stdout",
     "output_type": "stream",
     "text": [
      "srinath srinath srinath srinath srinath \n"
     ]
    }
   ],
   "source": [
    "print(\"srinath \"*5)"
   ]
  },
  {
   "cell_type": "code",
   "execution_count": 44,
   "id": "0a02d595",
   "metadata": {},
   "outputs": [
    {
     "name": "stdout",
     "output_type": "stream",
     "text": [
      "rogr\n"
     ]
    }
   ],
   "source": [
    " # values from index 1 to 5-1 will be sliced\n",
    "my_string= \"programming\"\n",
    "print(my_string[1:5])"
   ]
  },
  {
   "cell_type": "code",
   "execution_count": 45,
   "id": "2f1643ca",
   "metadata": {},
   "outputs": [
    {
     "name": "stdout",
     "output_type": "stream",
     "text": [
      "pormi\n"
     ]
    }
   ],
   "source": [
    "# step\n",
    "print(my_string[0:10:2])"
   ]
  },
  {
   "cell_type": "code",
   "execution_count": null,
   "id": "e3193d59",
   "metadata": {},
   "outputs": [],
   "source": [
    "#to concate 2 srtings\n",
    "word_1 = 'Sri '\n",
    "word_2 = 'nath'\n",
    "\n",
    "print(word_1+word_2)"
   ]
  },
  {
   "cell_type": "markdown",
   "id": "c57e8a94",
   "metadata": {},
   "source": [
    "# list"
   ]
  },
  {
   "cell_type": "code",
   "execution_count": 48,
   "id": "f3280c9c",
   "metadata": {},
   "outputs": [
    {
     "name": "stdout",
     "output_type": "stream",
     "text": [
      "[2, 5, 1.8, 'Python', True]\n"
     ]
    }
   ],
   "source": [
    "my_list=[2,5,1.8,'Python',True]\n",
    "print(my_list)"
   ]
  },
  {
   "cell_type": "code",
   "execution_count": 54,
   "id": "c3a55729",
   "metadata": {},
   "outputs": [
    {
     "name": "stdout",
     "output_type": "stream",
     "text": [
      "[2, 5, 1.8, 'Python', True, 5, 5, 5]\n"
     ]
    }
   ],
   "source": [
    "# to add elements in list\n",
    "my_list.append(5)\n",
    "print(my_list)"
   ]
  },
  {
   "cell_type": "code",
   "execution_count": 56,
   "id": "04368397",
   "metadata": {},
   "outputs": [
    {
     "name": "stdout",
     "output_type": "stream",
     "text": [
      "2\n",
      "1.8\n"
     ]
    }
   ],
   "source": [
    "# print elements of a list using their index\n",
    "print(my_list[0])\n",
    "print(my_list[2])"
   ]
  },
  {
   "cell_type": "code",
   "execution_count": 57,
   "id": "90100631",
   "metadata": {},
   "outputs": [
    {
     "name": "stdout",
     "output_type": "stream",
     "text": [
      "[1, 2, 3, 4, 5, 12, 2, 3]\n"
     ]
    }
   ],
   "source": [
    "# lists allow duplicate values\n",
    "list_1 = [1,2,3,4,5,12,2,3]\n",
    "print(list_1)"
   ]
  },
  {
   "cell_type": "code",
   "execution_count": 58,
   "id": "5d437d6f",
   "metadata": {},
   "outputs": [
    {
     "name": "stdout",
     "output_type": "stream",
     "text": [
      "8\n"
     ]
    }
   ],
   "source": [
    "print(len(list_1))"
   ]
  },
  {
   "cell_type": "code",
   "execution_count": 59,
   "id": "77b2b60c",
   "metadata": {},
   "outputs": [
    {
     "name": "stdout",
     "output_type": "stream",
     "text": [
      "[]\n"
     ]
    }
   ],
   "source": [
    "# initiating an empty list\n",
    "list_2 = []\n",
    "print(list_2)"
   ]
  },
  {
   "cell_type": "code",
   "execution_count": 60,
   "id": "67abd11d",
   "metadata": {},
   "outputs": [
    {
     "name": "stdout",
     "output_type": "stream",
     "text": [
      "[5]\n"
     ]
    }
   ],
   "source": [
    "list_2.append(5)\n",
    "print(list_2)"
   ]
  },
  {
   "cell_type": "code",
   "execution_count": 61,
   "id": "9077aa2a",
   "metadata": {},
   "outputs": [
    {
     "name": "stdout",
     "output_type": "stream",
     "text": [
      "[2, 3, 1.8, 'English', True, 6]\n",
      "[2, 3, 'English', True, 6]\n"
     ]
    }
   ],
   "source": [
    "# delete an item in a list\n",
    "list_2 = [2, 3, 1.8, 'English', True, 6]\n",
    "print(list_2)\n",
    "\n",
    "del list_2[2]\n",
    "print(list_2)"
   ]
  },
  {
   "cell_type": "code",
   "execution_count": 62,
   "id": "224c2ccc",
   "metadata": {},
   "outputs": [
    {
     "name": "stdout",
     "output_type": "stream",
     "text": [
      "[1, 2, 3, 4, 5, 6, 7, 8, 9, 10]\n"
     ]
    }
   ],
   "source": [
    "# join two lists\n",
    "list_3 = [1,2,3,4,5]\n",
    "list_4 = [6,7,8,9,10]\n",
    "\n",
    "list_5 = list_3 + list_4\n",
    "print(list_5)"
   ]
  },
  {
   "cell_type": "markdown",
   "id": "c43028a7",
   "metadata": {},
   "source": [
    "# tuple"
   ]
  },
  {
   "cell_type": "code",
   "execution_count": 67,
   "id": "f531f1e2",
   "metadata": {},
   "outputs": [
    {
     "name": "stdout",
     "output_type": "stream",
     "text": [
      "(1, 2, 3.5, 'Machine Learning', False)\n"
     ]
    }
   ],
   "source": [
    "# tuple allows multiple data types\n",
    "tuple_2 = (1,2,3.5, 'Machine Learning', False)\n",
    "print(tuple_2)"
   ]
  },
  {
   "cell_type": "markdown",
   "id": "8cce5705",
   "metadata": {},
   "source": [
    "In tuple we cannot append the element but in list we can do #tuples are immutable"
   ]
  },
  {
   "cell_type": "code",
   "execution_count": 69,
   "id": "e0e7f28a",
   "metadata": {},
   "outputs": [
    {
     "name": "stdout",
     "output_type": "stream",
     "text": [
      "[3, 4, 5, 6]\n",
      "(3, 4, 5, 6)\n"
     ]
    }
   ],
   "source": [
    "# converting  a list to a tuple\n",
    "\n",
    "my_list8 = [3,4,5,6]\n",
    "print(my_list8)\n",
    "\n",
    "my_tuple = tuple(my_list8)\n",
    "print(my_tuple)"
   ]
  },
  {
   "cell_type": "code",
   "execution_count": 70,
   "id": "b1e10d17",
   "metadata": {},
   "outputs": [
    {
     "name": "stdout",
     "output_type": "stream",
     "text": [
      "3\n",
      "4\n"
     ]
    }
   ],
   "source": [
    "print(my_tuple[0])\n",
    "print(my_tuple[1])"
   ]
  },
  {
   "cell_type": "code",
   "execution_count": 71,
   "id": "cce06339",
   "metadata": {},
   "outputs": [
    {
     "name": "stdout",
     "output_type": "stream",
     "text": [
      "4\n"
     ]
    }
   ],
   "source": [
    "print(len(my_tuple))"
   ]
  },
  {
   "cell_type": "code",
   "execution_count": null,
   "id": "4e31abcc",
   "metadata": {},
   "outputs": [],
   "source": []
  },
  {
   "cell_type": "markdown",
   "id": "0c001d37",
   "metadata": {},
   "source": [
    "# sets"
   ]
  },
  {
   "cell_type": "markdown",
   "id": "d651e36b",
   "metadata": {},
   "source": [
    "#for set we cannot call any element in set & create duplicate values"
   ]
  },
  {
   "cell_type": "code",
   "execution_count": 72,
   "id": "88b142e0",
   "metadata": {},
   "outputs": [
    {
     "name": "stdout",
     "output_type": "stream",
     "text": [
      "{1, 2, 3, 4, 5}\n"
     ]
    },
    {
     "data": {
      "text/plain": [
       "set"
      ]
     },
     "execution_count": 72,
     "metadata": {},
     "output_type": "execute_result"
    }
   ],
   "source": [
    "# set --> Curly brackets\n",
    "my_set = {1,2,3,4,5}\n",
    "print(my_set)\n",
    "type(my_set)"
   ]
  },
  {
   "cell_type": "code",
   "execution_count": 73,
   "id": "5eeaf41d",
   "metadata": {},
   "outputs": [
    {
     "ename": "TypeError",
     "evalue": "'set' object is not subscriptable",
     "output_type": "error",
     "traceback": [
      "\u001b[1;31m---------------------------------------------------------------------------\u001b[0m",
      "\u001b[1;31mTypeError\u001b[0m                                 Traceback (most recent call last)",
      "\u001b[1;32m~\\AppData\\Local\\Temp/ipykernel_9404/1349405229.py\u001b[0m in \u001b[0;36m<module>\u001b[1;34m\u001b[0m\n\u001b[1;32m----> 1\u001b[1;33m \u001b[0mprint\u001b[0m\u001b[1;33m(\u001b[0m\u001b[0mmy_set\u001b[0m\u001b[1;33m[\u001b[0m\u001b[1;36m0\u001b[0m\u001b[1;33m]\u001b[0m\u001b[1;33m)\u001b[0m\u001b[1;33m\u001b[0m\u001b[1;33m\u001b[0m\u001b[0m\n\u001b[0m",
      "\u001b[1;31mTypeError\u001b[0m: 'set' object is not subscriptable"
     ]
    }
   ],
   "source": [
    "print(my_set[0]) # we cannot call values in set"
   ]
  },
  {
   "cell_type": "code",
   "execution_count": 4,
   "id": "c1d582eb",
   "metadata": {},
   "outputs": [
    {
     "name": "stdout",
     "output_type": "stream",
     "text": [
      "{'name': 'Siri', 'age': 23, 'country': 'India'}\n"
     ]
    },
    {
     "data": {
      "text/plain": [
       "dict"
      ]
     },
     "execution_count": 4,
     "metadata": {},
     "output_type": "execute_result"
    }
   ],
   "source": [
    "my_dictionary = {'name':'Siri','age':23,'country':'India'}\n",
    "print(my_dictionary)\n",
    "type(my_dictionary)"
   ]
  },
  {
   "cell_type": "code",
   "execution_count": 6,
   "id": "d9c0dea7",
   "metadata": {},
   "outputs": [],
   "source": [
    "import numpy as np\n",
    "import pandas as pd"
   ]
  },
  {
   "cell_type": "code",
   "execution_count": 8,
   "id": "0fb71509",
   "metadata": {},
   "outputs": [
    {
     "data": {
      "text/plain": [
       "5"
      ]
     },
     "execution_count": 8,
     "metadata": {},
     "output_type": "execute_result"
    }
   ],
   "source": [
    "6/7\n",
    "round(50/10)"
   ]
  },
  {
   "cell_type": "code",
   "execution_count": 11,
   "id": "583587d7",
   "metadata": {},
   "outputs": [
    {
     "data": {
      "text/plain": [
       "20736"
      ]
     },
     "execution_count": 11,
     "metadata": {},
     "output_type": "execute_result"
    }
   ],
   "source": [
    "brac=3+9\n",
    "pow(brac,4)"
   ]
  },
  {
   "cell_type": "code",
   "execution_count": null,
   "id": "7dc24975",
   "metadata": {},
   "outputs": [],
   "source": []
  },
  {
   "cell_type": "markdown",
   "id": "af7275f2",
   "metadata": {},
   "source": []
  },
  {
   "cell_type": "code",
   "execution_count": 33,
   "id": "668b5715",
   "metadata": {},
   "outputs": [
    {
     "data": {
      "text/plain": [
       "3.53"
      ]
     },
     "execution_count": 33,
     "metadata": {},
     "output_type": "execute_result"
    }
   ],
   "source": [
    "x=np.log(34)\n",
    "round(x,2)"
   ]
  },
  {
   "cell_type": "code",
   "execution_count": 24,
   "id": "aec82ff9",
   "metadata": {},
   "outputs": [
    {
     "data": {
      "text/plain": [
       "34.00000000000001"
      ]
     },
     "execution_count": 24,
     "metadata": {},
     "output_type": "execute_result"
    }
   ],
   "source": [
    "exp=np.exp(x)\n",
    "exp"
   ]
  },
  {
   "cell_type": "code",
   "execution_count": 27,
   "id": "b36f54b0",
   "metadata": {},
   "outputs": [
    {
     "data": {
      "text/plain": [
       "81"
      ]
     },
     "execution_count": 27,
     "metadata": {},
     "output_type": "execute_result"
    }
   ],
   "source": [
    "y=pow(3,4)\n",
    "y"
   ]
  },
  {
   "cell_type": "code",
   "execution_count": 29,
   "id": "2b6d5f94",
   "metadata": {},
   "outputs": [
    {
     "data": {
      "text/plain": [
       "45"
      ]
     },
     "execution_count": 29,
     "metadata": {},
     "output_type": "execute_result"
    }
   ],
   "source": [
    "z=np.abs(-45)\n",
    "z"
   ]
  },
  {
   "cell_type": "code",
   "execution_count": 32,
   "id": "a0a967ac",
   "metadata": {},
   "outputs": [
    {
     "data": {
      "text/plain": [
       "0.06666666666666667"
      ]
     },
     "execution_count": 32,
     "metadata": {},
     "output_type": "execute_result"
    }
   ],
   "source": [
    "d=1/np.sqrt(225)\n",
    "d"
   ]
  },
  {
   "cell_type": "code",
   "execution_count": 35,
   "id": "bb27b779",
   "metadata": {},
   "outputs": [
    {
     "data": {
      "text/plain": [
       "0.067"
      ]
     },
     "execution_count": 35,
     "metadata": {},
     "output_type": "execute_result"
    }
   ],
   "source": [
    "round(d,3)"
   ]
  },
  {
   "cell_type": "code",
   "execution_count": 38,
   "id": "5ae35397",
   "metadata": {},
   "outputs": [
    {
     "data": {
      "text/plain": [
       "[5, 6, 7, 8, 9, 10, 11]"
      ]
     },
     "execution_count": 38,
     "metadata": {},
     "output_type": "execute_result"
    }
   ],
   "source": [
    "X1=[1,2,3,4,5,6,7,8,9]\n",
    "X2=[5,6,7,8,9,10,11]\n",
    "X1\n",
    "X2"
   ]
  },
  {
   "cell_type": "code",
   "execution_count": 44,
   "id": "6fddf724",
   "metadata": {},
   "outputs": [
    {
     "data": {
      "text/plain": [
       "array([1, 2, 3, 4, 5, 6, 7, 8, 9])"
      ]
     },
     "execution_count": 44,
     "metadata": {},
     "output_type": "execute_result"
    }
   ],
   "source": [
    "Y1=np.array(X1)\n",
    "Y2=np.array(X2)\n",
    "Y1"
   ]
  },
  {
   "cell_type": "code",
   "execution_count": 43,
   "id": "bff369a4",
   "metadata": {},
   "outputs": [
    {
     "data": {
      "text/plain": [
       "array([0.5, 1. , 1.5, 2. , 2.5, 3. , 3.5, 4. , 4.5])"
      ]
     },
     "execution_count": 43,
     "metadata": {},
     "output_type": "execute_result"
    }
   ],
   "source": [
    "Z1=Y1/2\n",
    "Z1"
   ]
  },
  {
   "cell_type": "code",
   "execution_count": 48,
   "id": "b080c3e7",
   "metadata": {},
   "outputs": [
    {
     "data": {
      "text/plain": [
       "array([ 0,  1,  2,  3,  4,  5,  6,  7,  8,  9, 10, 11, 12, 13, 14])"
      ]
     },
     "execution_count": 48,
     "metadata": {},
     "output_type": "execute_result"
    }
   ],
   "source": [
    "X4=np.arange(0,15)\n",
    "X4"
   ]
  },
  {
   "cell_type": "code",
   "execution_count": 52,
   "id": "aeb45ff5",
   "metadata": {},
   "outputs": [
    {
     "data": {
      "text/plain": [
       "array([ 0,  2,  4,  6,  8, 10, 12, 14, 16, 18, 20, 22, 24, 26, 28])"
      ]
     },
     "execution_count": 52,
     "metadata": {},
     "output_type": "execute_result"
    }
   ],
   "source": [
    "X5=np.arange(0,30,2)\n",
    "X5"
   ]
  },
  {
   "cell_type": "code",
   "execution_count": 53,
   "id": "386d9842",
   "metadata": {},
   "outputs": [
    {
     "data": {
      "text/plain": [
       "array([ 1,  3,  5,  7,  9, 11, 13])"
      ]
     },
     "execution_count": 53,
     "metadata": {},
     "output_type": "execute_result"
    }
   ],
   "source": [
    "X6=np.arange(1,14,2)\n",
    "X6"
   ]
  },
  {
   "cell_type": "code",
   "execution_count": 54,
   "id": "261b0996",
   "metadata": {},
   "outputs": [
    {
     "data": {
      "text/plain": [
       "7.0"
      ]
     },
     "execution_count": 54,
     "metadata": {},
     "output_type": "execute_result"
    }
   ],
   "source": [
    "np.median(X6)"
   ]
  },
  {
   "cell_type": "code",
   "execution_count": 55,
   "id": "0c170aa8",
   "metadata": {},
   "outputs": [
    {
     "data": {
      "text/plain": [
       "7.0"
      ]
     },
     "execution_count": 55,
     "metadata": {},
     "output_type": "execute_result"
    }
   ],
   "source": [
    "np.mean(X6)"
   ]
  },
  {
   "cell_type": "code",
   "execution_count": 59,
   "id": "ea52bc24",
   "metadata": {},
   "outputs": [
    {
     "data": {
      "text/plain": [
       "array([   0,    1,    2, ...,  998,  999, 1000])"
      ]
     },
     "execution_count": 59,
     "metadata": {},
     "output_type": "execute_result"
    }
   ],
   "source": [
    "num=np.arange(0,1001)\n",
    "num"
   ]
  },
  {
   "cell_type": "code",
   "execution_count": 60,
   "id": "db9c3c4d",
   "metadata": {},
   "outputs": [
    {
     "data": {
      "text/plain": [
       "500.0"
      ]
     },
     "execution_count": 60,
     "metadata": {},
     "output_type": "execute_result"
    }
   ],
   "source": [
    "np.mean(num)"
   ]
  },
  {
   "cell_type": "code",
   "execution_count": 61,
   "id": "dd111d9a",
   "metadata": {},
   "outputs": [
    {
     "data": {
      "text/plain": [
       "500.0"
      ]
     },
     "execution_count": 61,
     "metadata": {},
     "output_type": "execute_result"
    }
   ],
   "source": [
    "np.median(num)"
   ]
  },
  {
   "cell_type": "code",
   "execution_count": 73,
   "id": "b4b9b192",
   "metadata": {},
   "outputs": [
    {
     "data": {
      "text/plain": [
       "array([   0,    5,   10,   15,   20,   25,   30,   35,   40,   45,   50,\n",
       "         55,   60,   65,   70,   75,   80,   85,   90,   95,  100,  105,\n",
       "        110,  115,  120,  125,  130,  135,  140,  145,  150,  155,  160,\n",
       "        165,  170,  175,  180,  185,  190,  195,  200,  205,  210,  215,\n",
       "        220,  225,  230,  235,  240,  245,  250,  255,  260,  265,  270,\n",
       "        275,  280,  285,  290,  295,  300,  305,  310,  315,  320,  325,\n",
       "        330,  335,  340,  345,  350,  355,  360,  365,  370,  375,  380,\n",
       "        385,  390,  395,  400,  405,  410,  415,  420,  425,  430,  435,\n",
       "        440,  445,  450,  455,  460,  465,  470,  475,  480,  485,  490,\n",
       "        495,  500,  505,  510,  515,  520,  525,  530,  535,  540,  545,\n",
       "        550,  555,  560,  565,  570,  575,  580,  585,  590,  595,  600,\n",
       "        605,  610,  615,  620,  625,  630,  635,  640,  645,  650,  655,\n",
       "        660,  665,  670,  675,  680,  685,  690,  695,  700,  705,  710,\n",
       "        715,  720,  725,  730,  735,  740,  745,  750,  755,  760,  765,\n",
       "        770,  775,  780,  785,  790,  795,  800,  805,  810,  815,  820,\n",
       "        825,  830,  835,  840,  845,  850,  855,  860,  865,  870,  875,\n",
       "        880,  885,  890,  895,  900,  905,  910,  915,  920,  925,  930,\n",
       "        935,  940,  945,  950,  955,  960,  965,  970,  975,  980,  985,\n",
       "        990,  995, 1000])"
      ]
     },
     "execution_count": 73,
     "metadata": {},
     "output_type": "execute_result"
    }
   ],
   "source": [
    "divby5=np.arange(0,1001,5)\n",
    "divby5"
   ]
  },
  {
   "cell_type": "code",
   "execution_count": 74,
   "id": "42a7ead7",
   "metadata": {},
   "outputs": [
    {
     "data": {
      "text/plain": [
       "500.0"
      ]
     },
     "execution_count": 74,
     "metadata": {},
     "output_type": "execute_result"
    }
   ],
   "source": [
    "np.mean(divby5)"
   ]
  },
  {
   "cell_type": "code",
   "execution_count": 76,
   "id": "2e6d5532",
   "metadata": {},
   "outputs": [
    {
     "data": {
      "text/plain": [
       "500.0"
      ]
     },
     "execution_count": 76,
     "metadata": {},
     "output_type": "execute_result"
    }
   ],
   "source": [
    "np.median(divby5)"
   ]
  },
  {
   "cell_type": "code",
   "execution_count": 8,
   "id": "c2c1ce7e",
   "metadata": {},
   "outputs": [],
   "source": [
    "#dictionary\n",
    "data={'Name': ['suba','sri','niru','rohit'],\n",
    "      'age': [ '22','23','24','25'],\n",
    "      'address':['trichy','madurai','chennai','goa'],\n",
    "      'qualification': ['BE','MBA','Msc','Bsc']}"
   ]
  },
  {
   "cell_type": "code",
   "execution_count": 9,
   "id": "203fe68d",
   "metadata": {},
   "outputs": [],
   "source": [
    "#convert the dictionary into Dataframe\n",
    "df = pd.DataFrame(data)"
   ]
  }
 ],
 "metadata": {
  "kernelspec": {
   "display_name": "Python 3 (ipykernel)",
   "language": "python",
   "name": "python3"
  },
  "language_info": {
   "codemirror_mode": {
    "name": "ipython",
    "version": 3
   },
   "file_extension": ".py",
   "mimetype": "text/x-python",
   "name": "python",
   "nbconvert_exporter": "python",
   "pygments_lexer": "ipython3",
   "version": "3.9.7"
  }
 },
 "nbformat": 4,
 "nbformat_minor": 5
}
